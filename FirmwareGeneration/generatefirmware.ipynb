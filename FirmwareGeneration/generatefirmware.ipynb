{
 "cells": [
  {
   "cell_type": "code",
   "execution_count": 2,
   "metadata": {},
   "outputs": [],
   "source": [
    "import pandas as pd\n",
    "import numpy as np"
   ]
  },
  {
   "cell_type": "code",
   "execution_count": 39,
   "metadata": {},
   "outputs": [
    {
     "name": "stdout",
     "output_type": "stream",
     "text": [
      "     Identifier  Address Format   Type      Description MaskFamily\n",
      "0    DigitalSet      123    U16    NaN      Sets output     DOMask\n",
      "1  DigitalClear      124    U16    NaN    Clears output     DOMask\n",
      "2      PwmStart      125     U8    NaN       Starts pwm    PwmMask\n",
      "3       PwmStop      126     U8    NaN        Stops pwm    PwmMask\n",
      "4     Heartbeat       12     U8  Event  Heartbeat event        NaN\n",
      "     Identifier BitMask Format      Description\n",
      "0  DOMask_Poke0    1<<0    U16  Output of Poke0\n",
      "1  DOMask_Poke1    1<<1    U16  Output of Poke1\n",
      "2  DOMask_Poke2    1<<2    U16  Output of Poke2\n",
      "3   PwmMask_DO0    1<<0     U8    Pwm channel 0\n",
      "4   PwmMask_DO1    1<<1     U8    Pwm channel 1\n"
     ]
    }
   ],
   "source": [
    "registers = pd.read_csv(\"registers.csv\", delimiter=\",\")\n",
    "masks = pd.read_csv(\"masks.csv\", delimiter=\",\")\n",
    "print(registers)\n",
    "\n",
    "print(masks)"
   ]
  },
  {
   "cell_type": "code",
   "execution_count": 11,
   "metadata": {},
   "outputs": [],
   "source": [
    "datatype_conversion = {\n",
    "    \"U16\":\"uint16_t\",\n",
    "    \"U8\":\"uint8_t\",\n",
    "}"
   ]
  },
  {
   "cell_type": "code",
   "execution_count": 21,
   "metadata": {},
   "outputs": [
    {
     "name": "stdout",
     "output_type": "stream",
     "text": [
      "//************************************************************************//\n",
      "//* Registers' structure                                                 *//\n",
      "//************************************************************************//\n",
      "typedef struct\n",
      "{\n",
      "\tuint16_t DigitalSet;\n",
      "\tuint16_t DigitalClear;\n",
      "\tuint8_t PwmStart;\n",
      "\tuint8_t PwmStop;\n",
      "\tuint8_t Heartbeat;\n",
      "\n",
      "} AppRegs;\n",
      "\n"
     ]
    }
   ],
   "source": [
    "txt_fnc = lambda row: f\"\"\"\t{datatype_conversion[row.Format]} {row.Identifier};\n",
    "\"\"\"\n",
    "registers_data = registers.apply(txt_fnc, axis=1).values.tolist()\n",
    "\n",
    "header_register_s =\\\n",
    "\"\"\"//************************************************************************//\n",
    "//* Registers' structure                                                 *//\n",
    "//************************************************************************//\n",
    "typedef struct\n",
    "{\n",
    "\"\"\" + f\"{''.join(registers_data)}\" + \"\"\"\n",
    "} AppRegs;\n",
    "\"\"\"\n"
   ]
  },
  {
   "cell_type": "code",
   "execution_count": 38,
   "metadata": {},
   "outputs": [
    {
     "name": "stdout",
     "output_type": "stream",
     "text": [
      "/************************************************************************/\n",
      "/* Registers' address                                                   */\n",
      "/************************************************************************/\n",
      "/* Registers */\n",
      "#define DigitalSet\t123 // U16\tDOMask\tSets output\n",
      "#define DigitalClear\t124 // U16\tDOMask\tClears output\n",
      "#define PwmStart\t125 // U8\tPwmMask\tStarts pwm\n",
      "#define PwmStop\t126 // U8\tPwmMask\tStops pwm\n",
      "#define Heartbeat\t12 // U8\t\tHeartbeat event\n",
      "\n"
     ]
    }
   ],
   "source": [
    "txt_fnc = lambda row: f\"\"\"#define {row.Identifier}\t{row.Address} // {row.Format}\t{row.MaskFamily if pd.isnull(row.MaskFamily) is False else \"\"}\t{row.Description if pd.isnull(row.Description) is False else \"\"}\n",
    "\"\"\"\n",
    "registers_data = registers.apply(txt_fnc, axis=1).values.tolist()\n",
    "\n",
    "header_register =\\\n",
    "\"\"\"/************************************************************************/\n",
    "/* Registers' address                                                   */\n",
    "/************************************************************************/\n",
    "/* Registers */\n",
    "\"\"\" + f\"{''.join(registers_data)}\"\n",
    "\n",
    "\n"
   ]
  },
  {
   "cell_type": "code",
   "execution_count": 42,
   "metadata": {},
   "outputs": [
    {
     "name": "stdout",
     "output_type": "stream",
     "text": [
      "/************************************************************************/\n",
      "/* Registers' bits                                                      */\n",
      "/************************************************************************/\n",
      "#define DOMask_Poke0\t(1<<0)\t// U16\tOutput of Poke0\n",
      "#define DOMask_Poke1\t(1<<1)\t// U16\tOutput of Poke1\n",
      "#define DOMask_Poke2\t(1<<2)\t// U16\tOutput of Poke2\n",
      "#define PwmMask_DO0\t(1<<0)\t// U8\tPwm channel 0\n",
      "#define PwmMask_DO1\t(1<<1)\t// U8\tPwm channel 1\n",
      "\n"
     ]
    }
   ],
   "source": [
    "txt_fnc = lambda row: f\"\"\"#define {row.Identifier}\t{row.BitMask if \"<<\" not in row.BitMask else f\"({row.BitMask})\"}\t// {row.Format}\t{row.Description if pd.isnull(row.Description) is False else \"\"}\n",
    "\"\"\"\n",
    "mask_data = masks.apply(txt_fnc, axis=1).values.tolist()\n",
    "\n",
    "header_mask =\\\n",
    "\"\"\"/************************************************************************/\n",
    "/* Registers' bits                                                      */\n",
    "/************************************************************************/\n",
    "\"\"\" + f\"{''.join(mask_data)}\"\n",
    "\n",
    "print(header_mask)\n"
   ]
  },
  {
   "cell_type": "code",
   "execution_count": 44,
   "metadata": {},
   "outputs": [],
   "source": [
    "f = open(\"header.h\", \"w\")\n",
    "f.writelines([header_register_s, \"\\n\", header_register, \"\\n\", header_mask])\n",
    "f.close()\n"
   ]
  },
  {
   "cell_type": "code",
   "execution_count": null,
   "metadata": {},
   "outputs": [],
   "source": []
  }
 ],
 "metadata": {
  "kernelspec": {
   "display_name": "sleap",
   "language": "python",
   "name": "python3"
  },
  "language_info": {
   "codemirror_mode": {
    "name": "ipython",
    "version": 3
   },
   "file_extension": ".py",
   "mimetype": "text/x-python",
   "name": "python",
   "nbconvert_exporter": "python",
   "pygments_lexer": "ipython3",
   "version": "3.7.13"
  },
  "orig_nbformat": 4,
  "vscode": {
   "interpreter": {
    "hash": "9540ce0ed9afc647fa54b86a4e2995b3fb7dfa50b295044d3f1e3f49757342c4"
   }
  }
 },
 "nbformat": 4,
 "nbformat_minor": 2
}
