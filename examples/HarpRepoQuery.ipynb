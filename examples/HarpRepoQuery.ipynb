{
 "cells": [
  {
   "cell_type": "code",
   "execution_count": null,
   "metadata": {},
   "outputs": [],
   "source": [
    "import sys\n",
    "import os\n",
    "\n",
    "from github import Github, Repository\n",
    "from GithubCredentials import my_credentials\n",
    "from enum import Enum\n",
    "\n",
    "sys.path.append(os.path.join(os.path.dirname(sys.path[0]),'harpcrawler'))\n",
    "from harprepo import HarpRepo, DeviceRepo, PeripheralRepo\n"
   ]
  },
  {
   "cell_type": "code",
   "execution_count": null,
   "metadata": {},
   "outputs": [],
   "source": [
    "gh_context = Github(login_or_token=my_credentials())\n",
    "harp_organization = gh_context.get_organization(\"harp-tech\")\n",
    "device_repos = [DeviceRepo(repo) for repo in harp_organization.get_repos() if \"device.\" in repo.full_name]\n",
    "\n",
    "for repo in device_repos:\n",
    "    r = repo.populate_repo()\n",
    "    is_file_present = repo.exist_harpfiles()\n",
    "    print(is_file_present)\n"
   ]
  },
  {
   "cell_type": "code",
   "execution_count": null,
   "metadata": {},
   "outputs": [],
   "source": []
  }
 ],
 "metadata": {
  "kernelspec": {
   "display_name": "GitHarpCrawler",
   "language": "python",
   "name": "python3"
  },
  "language_info": {
   "codemirror_mode": {
    "name": "ipython",
    "version": 3
   },
   "file_extension": ".py",
   "mimetype": "text/x-python",
   "name": "python",
   "nbconvert_exporter": "python",
   "pygments_lexer": "ipython3",
   "version": "3.10.8"
  },
  "orig_nbformat": 4,
  "vscode": {
   "interpreter": {
    "hash": "31e18dbbdcef53cd4cf51b478349e0fef84e585d00f71ad27545982ad4e2cea2"
   }
  }
 },
 "nbformat": 4,
 "nbformat_minor": 2
}
