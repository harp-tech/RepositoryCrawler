{
 "cells": [
  {
   "cell_type": "code",
   "execution_count": null,
   "metadata": {},
   "outputs": [],
   "source": [
    "import pandas as pd\n",
    "import numpy as np"
   ]
  },
  {
   "cell_type": "code",
   "execution_count": null,
   "metadata": {},
   "outputs": [],
   "source": [
    "converters = {\"Address\": int}\n",
    "registers = pd.read_csv(\"registers.csv\", delimiter=\",\", dtype=\"string\", converters=converters, keep_default_na=True)\n",
    "registers.fillna(\"None\", inplace=True)\n",
    "\n",
    "other_cols     = registers.columns.difference(list(converters.keys()))\n",
    "registers[other_cols] = registers[other_cols].applymap(lambda x: None if (x == \"None\") else x)\n",
    "\n",
    "\n",
    "\n",
    "masks = pd.read_csv(\"masks.csv\", delimiter=\",\")\n",
    "print(registers)\n",
    "\n",
    "print(masks)"
   ]
  },
  {
   "cell_type": "code",
   "execution_count": null,
   "metadata": {},
   "outputs": [],
   "source": [
    "datatype_conversion = {\n",
    "    \"U8\":\"uint8_t\",\n",
    "    \"S8\":\"int16_t\",\n",
    "    \"U16\":\"uint16_t\",\n",
    "    \"S16\":\"int16_t\",\n",
    "    \"U32\":\"uint32_t\",\n",
    "    \"S32\":\"int32_t\",\n",
    "    \"U64\":\"uint64_t\",\n",
    "    \"S64\":\"int64_t\",\n",
    "    \"Float\":\"float\",\n",
    "}"
   ]
  },
  {
   "cell_type": "code",
   "execution_count": null,
   "metadata": {},
   "outputs": [],
   "source": [
    "txt_fnc = lambda row: f\"\"\"\t{datatype_conversion[row.Format]} {row.Identifier};\n",
    "\"\"\"\n",
    "registers_data = registers.apply(txt_fnc, axis=1).values.tolist()\n",
    "\n",
    "header_register_s =\\\n",
    "\"\"\"//************************************************************************//\n",
    "//* Registers' structure                                                 *//\n",
    "//************************************************************************//\n",
    "typedef struct\n",
    "{\n",
    "\"\"\" + f\"{''.join(registers_data)}\" + \"\"\"\n",
    "} AppRegs;\n",
    "\"\"\"\n"
   ]
  },
  {
   "cell_type": "code",
   "execution_count": null,
   "metadata": {},
   "outputs": [],
   "source": [
    "txt_fnc = lambda row: f\"\"\"#define {row.Identifier}\t{row.Address} //\\\n",
    " {row.Format}{f\"[{row.ArrayLength}]\" if row.ArrayLength is not None else \"\"}\\\n",
    "\t{row.MaskFamily if pd.isnull(row.MaskFamily) is False else \"\"}\\\n",
    "\t\t\t{row.Description if pd.isnull(row.Description) is False else \"\"}\n",
    "\"\"\"\n",
    "\n",
    "\n",
    "registers_data = registers.apply(txt_fnc, axis=1).values.tolist()\n",
    "\n",
    "header_register =\\\n",
    "\"\"\"/************************************************************************/\n",
    "/* Registers' address                                                   */\n",
    "/************************************************************************/\n",
    "/* Registers */\n",
    "\"\"\" + f\"{''.join(registers_data)}\"\n",
    "\n",
    "\n"
   ]
  },
  {
   "cell_type": "code",
   "execution_count": null,
   "metadata": {},
   "outputs": [],
   "source": [
    "txt_fnc = lambda row: f\"\"\"#define {row.Identifier}\t{row.BitMask if \"<<\" not in row.BitMask else f\"({row.BitMask})\"}\t// {row.Format}\t{row.Description if pd.isnull(row.Description) is False else \"\"}\n",
    "\"\"\"\n",
    "mask_data = masks.apply(txt_fnc, axis=1).values.tolist()\n",
    "\n",
    "header_mask =\\\n",
    "\"\"\"/************************************************************************/\n",
    "/* Registers' bits                                                      */\n",
    "/************************************************************************/\n",
    "\"\"\" + f\"{''.join(mask_data)}\"\n",
    "\n",
    "print(header_mask)\n"
   ]
  },
  {
   "cell_type": "code",
   "execution_count": null,
   "metadata": {},
   "outputs": [],
   "source": [
    "f = open(\"header.h\", \"w\")\n",
    "f.writelines([header_register_s, \"\\n\", header_register, \"\\n\", header_mask])\n",
    "f.close()\n"
   ]
  }
 ],
 "metadata": {
  "kernelspec": {
   "display_name": "GitHarpCrawler",
   "language": "python",
   "name": "python3"
  },
  "language_info": {
   "codemirror_mode": {
    "name": "ipython",
    "version": 3
   },
   "file_extension": ".py",
   "mimetype": "text/x-python",
   "name": "python",
   "nbconvert_exporter": "python",
   "pygments_lexer": "ipython3",
   "version": "3.10.8 | packaged by conda-forge | (main, Nov 24 2022, 14:07:00) [MSC v.1916 64 bit (AMD64)]"
  },
  "orig_nbformat": 4,
  "vscode": {
   "interpreter": {
    "hash": "31e18dbbdcef53cd4cf51b478349e0fef84e585d00f71ad27545982ad4e2cea2"
   }
  }
 },
 "nbformat": 4,
 "nbformat_minor": 2
}
