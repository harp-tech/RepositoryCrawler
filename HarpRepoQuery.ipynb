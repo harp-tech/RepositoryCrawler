{
 "cells": [
  {
   "cell_type": "code",
   "execution_count": 1,
   "metadata": {},
   "outputs": [],
   "source": [
    "import pandas as pd\n",
    "import numpy as np\n",
    "\n",
    "from github import Github\n",
    "from _private.GithubCredentials import my_credentials\n",
    "\n",
    "from harpcrawler.harprepo.device import DeviceRepo, TemplateDeviceRepo\n",
    "from harpcrawler.harprepo.peripheral import PeripheralRepo, TemplatePeripheralRepo\n",
    "from harpcrawler.gsheets import HarpSpreadsheet"
   ]
  },
  {
   "cell_type": "code",
   "execution_count": 2,
   "metadata": {},
   "outputs": [],
   "source": [
    "## Setup\n",
    "gh = Github(login_or_token=my_credentials())\n",
    "\n",
    "device_template = TemplateDeviceRepo(gh.get_repo(\"bruno-f-cruz/device.template\"))\n",
    "peripheral_template = TemplatePeripheralRepo(gh.get_repo(\"bruno-f-cruz/peripheral.template\"))\n",
    "\n",
    "harpSpreadsheet = HarpSpreadsheet(\"GitHarpCrawler\")"
   ]
  },
  {
   "cell_type": "code",
   "execution_count": 3,
   "metadata": {},
   "outputs": [
    {
     "name": "stdout",
     "output_type": "stream",
     "text": [
      "                                                  Device .gitignore LICENSE  \\\n",
      "device.rfidreader                      device.rfidreader          ❌       ❌   \n",
      "device.behavior-before            device.behavior-before          ✅       ❌   \n",
      "device.behavior                          device.behavior          ✅       ❌   \n",
      "device.audioswitch                    device.audioswitch          ✅       ❌   \n",
      "device.cameratriggercontrol  device.cameratriggercontrol          ❌       ❌   \n",
      "device.clocksync                        device.clocksync          ❌       ❌   \n",
      "device.loadcells                        device.loadcells          ✅       ❌   \n",
      "device.rgbarray                          device.rgbarray          ✅       ❌   \n",
      "device.multipwm                          device.multipwm          ❌       ❌   \n",
      "device.synchronizer                  device.synchronizer          ✅       ❌   \n",
      "device.ledarray                          device.ledarray          ✅       ❌   \n",
      "\n",
      "                            README.md Assets/pcb.png Firmware/.gitignore  \\\n",
      "device.rfidreader                   ✅              ❌                   ✅   \n",
      "device.behavior-before              ✅              ❌                   ❌   \n",
      "device.behavior                     ✅              ✅                   ✅   \n",
      "device.audioswitch                  ✅              ✅                   ❌   \n",
      "device.cameratriggercontrol         ✅              ✅                   ❌   \n",
      "device.clocksync                    ✅              ✅                   ❌   \n",
      "device.loadcells                    ✅              ✅                   ❌   \n",
      "device.rgbarray                     ✅              ✅                   ❌   \n",
      "device.multipwm                     ✅              ✅                   ❌   \n",
      "device.synchronizer                 ✅              ✅                   ❌   \n",
      "device.ledarray                     ✅              ✅                   ❌   \n",
      "\n",
      "                            Firmware/LICENSE Hardware/.gitignore  \\\n",
      "device.rfidreader                          ✅                   ✅   \n",
      "device.behavior-before                     ❌                   ❌   \n",
      "device.behavior                            ❌                   ✅   \n",
      "device.audioswitch                         ❌                   ❌   \n",
      "device.cameratriggercontrol                ❌                   ❌   \n",
      "device.clocksync                           ❌                   ❌   \n",
      "device.loadcells                           ❌                   ❌   \n",
      "device.rgbarray                            ❌                   ❌   \n",
      "device.multipwm                            ❌                   ❌   \n",
      "device.synchronizer                        ❌                   ❌   \n",
      "device.ledarray                            ❌                   ❌   \n",
      "\n",
      "                            Hardware/Mechanical/LICENSE Hardware/PCB/LICENSE  \\\n",
      "device.rfidreader                                     ❌                    ✅   \n",
      "device.behavior-before                                ❌                    ❌   \n",
      "device.behavior                                       ❌                    ❌   \n",
      "device.audioswitch                                    ❌                    ❌   \n",
      "device.cameratriggercontrol                           ❌                    ❌   \n",
      "device.clocksync                                      ❌                    ❌   \n",
      "device.loadcells                                      ❌                    ❌   \n",
      "device.rgbarray                                       ❌                    ❌   \n",
      "device.multipwm                                       ❌                    ❌   \n",
      "device.synchronizer                                   ❌                    ❌   \n",
      "device.ledarray                                       ❌                    ❌   \n",
      "\n",
      "                                                                      Warnings  \n",
      "device.rfidreader            {'README.md': [['Header issue in [3, 'key-feat...  \n",
      "device.behavior-before       {'README.md': [[], ['Could not find figure ref...  \n",
      "device.behavior                                                             {}  \n",
      "device.audioswitch                                                          {}  \n",
      "device.cameratriggercontrol                                                 {}  \n",
      "device.clocksync             {'README.md': [['Header issue in [2, 'licensin...  \n",
      "device.loadcells                                                            {}  \n",
      "device.rgbarray                                                             {}  \n",
      "device.multipwm              {'README.md': [['Header issue in [2, 'interfac...  \n",
      "device.synchronizer                                                         {}  \n",
      "device.ledarray                                                             {}  \n"
     ]
    }
   ],
   "source": [
    "harp_organization = gh.get_organization(\"harp-tech\")\n",
    "\n",
    "## Get all \"Device.*\" repositories\n",
    "device_repos = [DeviceRepo(repo, device_template)\\\n",
    "    for repo in harp_organization.get_repos()\\\n",
    "        if ((\"device.\" in repo.full_name) and not(\"template\" in repo.full_name))]\n",
    "\n",
    "device_template.run_diagnosis(repos_to_validate=device_repos)\n",
    "device_diagnosis = device_template.print_diagnosis()\n",
    "print(device_diagnosis)\n",
    "\n",
    "\n",
    "device_diagnosis[\"Warnings\"] = device_diagnosis[\"Warnings\"].apply(lambda x: str(x))\n",
    "\n",
    "harpSpreadsheet.open_spreadsheet()\n",
    "harpSpreadsheet.update_spreadsheet(\"devices\", device_diagnosis)\n"
   ]
  },
  {
   "cell_type": "code",
   "execution_count": 4,
   "metadata": {},
   "outputs": [
    {
     "name": "stdout",
     "output_type": "stream",
     "text": [
      "                                            Device .gitignore LICENSE  \\\n",
      "peripheral.speaker              peripheral.speaker          ❌       ❌   \n",
      "peripheral.encoder              peripheral.encoder          ❌       ❌   \n",
      "peripheral.lightdetector  peripheral.lightdetector          ❌       ❌   \n",
      "peripheral.micepoke            peripheral.micepoke          ❌       ❌   \n",
      "peripheral.portbreakout    peripheral.portbreakout          ❌       ❌   \n",
      "peripheral.rgbled                peripheral.rgbled          ❌       ❌   \n",
      "peripheral.audioamp            peripheral.audioamp          ✅       ❌   \n",
      "\n",
      "                         README.md Assets/pcb.png Hardware/.gitignore  \\\n",
      "peripheral.speaker               ✅              ✅                   ❌   \n",
      "peripheral.encoder               ✅              ✅                   ❌   \n",
      "peripheral.lightdetector         ✅              ✅                   ❌   \n",
      "peripheral.micepoke              ✅              ✅                   ❌   \n",
      "peripheral.portbreakout          ✅              ✅                   ❌   \n",
      "peripheral.rgbled                ✅              ✅                   ❌   \n",
      "peripheral.audioamp              ✅              ✅                   ❌   \n",
      "\n",
      "                         Hardware/PCB/LICENSE  \\\n",
      "peripheral.speaker                          ❌   \n",
      "peripheral.encoder                          ❌   \n",
      "peripheral.lightdetector                    ❌   \n",
      "peripheral.micepoke                         ❌   \n",
      "peripheral.portbreakout                     ❌   \n",
      "peripheral.rgbled                           ❌   \n",
      "peripheral.audioamp                         ❌   \n",
      "\n",
      "                                                                   Warnings  \n",
      "peripheral.speaker        {'README.md': [['Header issue in [1, 'peripher...  \n",
      "peripheral.encoder        {'README.md': [['Header issue in [1, 'peripher...  \n",
      "peripheral.lightdetector  {'README.md': [['Header issue in [1, 'peripher...  \n",
      "peripheral.micepoke       {'README.md': [['Header issue in [1, 'peripher...  \n",
      "peripheral.portbreakout   {'README.md': [['Header issue in [1, 'peripher...  \n",
      "peripheral.rgbled         {'README.md': [['Header issue in [1, 'peripher...  \n",
      "peripheral.audioamp       {'README.md': [['Header issue in [1, 'peripher...  \n"
     ]
    }
   ],
   "source": [
    "harp_organization = gh.get_organization(\"harp-tech\")\n",
    "\n",
    "## Get all \"Peripherals.*\" repositories\n",
    "\n",
    "peripheral_repos = [PeripheralRepo(repo, peripheral_template)\\\n",
    "    for repo in harp_organization.get_repos()\\\n",
    "        if ((\"peripheral.\" in repo.full_name) and not(\"template\" in repo.full_name))]\n",
    "\n",
    "peripheral_template.run_diagnosis(repos_to_validate=peripheral_repos)\n",
    "peripherals_diagnosis = peripheral_template.print_diagnosis()\n",
    "print(peripherals_diagnosis)\n",
    "\n",
    "peripherals_diagnosis[\"Warnings\"] = peripherals_diagnosis[\"Warnings\"].apply(lambda x: str(x))\n",
    "\n",
    "harpSpreadsheet.open_spreadsheet()\n",
    "harpSpreadsheet.update_spreadsheet(\"peripherals\", peripherals_diagnosis)"
   ]
  }
 ],
 "metadata": {
  "kernelspec": {
   "display_name": "GitHarpCrawler",
   "language": "python",
   "name": "python3"
  },
  "language_info": {
   "codemirror_mode": {
    "name": "ipython",
    "version": 3
   },
   "file_extension": ".py",
   "mimetype": "text/x-python",
   "name": "python",
   "nbconvert_exporter": "python",
   "pygments_lexer": "ipython3",
   "version": "3.10.8"
  },
  "orig_nbformat": 4,
  "vscode": {
   "interpreter": {
    "hash": "31e18dbbdcef53cd4cf51b478349e0fef84e585d00f71ad27545982ad4e2cea2"
   }
  }
 },
 "nbformat": 4,
 "nbformat_minor": 2
}
