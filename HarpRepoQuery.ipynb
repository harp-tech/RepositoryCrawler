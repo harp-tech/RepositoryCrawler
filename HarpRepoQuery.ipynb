{
 "cells": [
  {
   "cell_type": "code",
   "execution_count": null,
   "metadata": {},
   "outputs": [],
   "source": [
    "import pandas as pd\n",
    "import numpy as np\n",
    "\n",
    "from github import Github\n",
    "from _private.GithubCredentials import my_credentials\n",
    "\n",
    "from harpcrawler.harprepo.device import DeviceRepo, TemplateDeviceRepo\n",
    "from harpcrawler.harprepo.peripheral import PeripheralRepo, TemplatePeripheralRepo\n",
    "from harpcrawler.gsheets import HarpSpreadsheet"
   ]
  },
  {
   "cell_type": "code",
   "execution_count": null,
   "metadata": {},
   "outputs": [],
   "source": [
    "## Setup\n",
    "gh = Github(login_or_token=my_credentials())\n",
    "\n",
    "device_template = TemplateDeviceRepo(gh.get_repo(\"bruno-f-cruz/device.template\"))\n",
    "peripheral_template = TemplatePeripheralRepo(gh.get_repo(\"bruno-f-cruz/peripheral.template\"))\n",
    "\n",
    "harpSpreadsheet = HarpSpreadsheet(\"GitHarpCrawler\")"
   ]
  },
  {
   "cell_type": "code",
   "execution_count": null,
   "metadata": {},
   "outputs": [],
   "source": [
    "harp_organization = gh.get_organization(\"harp-tech\")\n",
    "\n",
    "## Get all \"Device.*\" repositories\n",
    "device_repos = [DeviceRepo(repo, device_template)\\\n",
    "    for repo in harp_organization.get_repos()\\\n",
    "        if ((\"device.\" in repo.full_name) and not(\"template\" in repo.full_name))]\n",
    "\n",
    "device_template.run_diagnosis(repos_to_validate=device_repos)\n",
    "device_diagnosis = device_template.print_diagnosis()\n",
    "print(device_diagnosis)\n",
    "\n",
    "device_diagnosis[\"Warnings\"] = device_diagnosis[\"Warnings\"].apply(lambda x: str(x))\n",
    "device_diagnosis[\"FirmwareVersion\"] = device_diagnosis[\"FirmwareVersion\"].apply(lambda x: str(x))\n",
    "device_diagnosis[\"HardwareVersion\"] = device_diagnosis[\"HardwareVersion\"].apply(lambda x: str(x))\n",
    "device_diagnosis[\"HarpProtocolVersion\"] = device_diagnosis[\"HarpProtocolVersion\"].apply(lambda x: str(x))\n",
    "\n",
    "harpSpreadsheet.open_spreadsheet()\n",
    "harpSpreadsheet.update_spreadsheet(\"devices\", device_diagnosis)\n"
   ]
  },
  {
   "cell_type": "code",
   "execution_count": null,
   "metadata": {},
   "outputs": [],
   "source": [
    "harp_organization = gh.get_organization(\"harp-tech\")\n",
    "\n",
    "## Get all \"Peripherals.*\" repositories\n",
    "\n",
    "peripheral_repos = [PeripheralRepo(repo, peripheral_template)\\\n",
    "    for repo in harp_organization.get_repos()\\\n",
    "        if ((\"peripheral.\" in repo.full_name) and not(\"template\" in repo.full_name))]\n",
    "\n",
    "peripheral_template.run_diagnosis(repos_to_validate=peripheral_repos)\n",
    "peripherals_diagnosis = peripheral_template.print_diagnosis()\n",
    "print(peripherals_diagnosis)\n",
    "\n",
    "peripherals_diagnosis[\"Warnings\"] = peripherals_diagnosis[\"Warnings\"].apply(lambda x: str(x))\n",
    "peripherals_diagnosis[\"HardwareVersion\"] = peripherals_diagnosis[\"HardwareVersion\"].apply(lambda x: str(x))\n",
    "\n",
    "harpSpreadsheet.open_spreadsheet()\n",
    "harpSpreadsheet.update_spreadsheet(\"peripherals\", peripherals_diagnosis)"
   ]
  }
 ],
 "metadata": {
  "kernelspec": {
   "display_name": "GitHarpCrawler",
   "language": "python",
   "name": "python3"
  },
  "language_info": {
   "codemirror_mode": {
    "name": "ipython",
    "version": 3
   },
   "file_extension": ".py",
   "mimetype": "text/x-python",
   "name": "python",
   "nbconvert_exporter": "python",
   "pygments_lexer": "ipython3",
   "version": "3.10.8"
  },
  "orig_nbformat": 4,
  "vscode": {
   "interpreter": {
    "hash": "31e18dbbdcef53cd4cf51b478349e0fef84e585d00f71ad27545982ad4e2cea2"
   }
  }
 },
 "nbformat": 4,
 "nbformat_minor": 2
}
