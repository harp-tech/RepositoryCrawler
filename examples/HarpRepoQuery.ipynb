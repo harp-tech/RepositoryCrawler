{
 "cells": [
  {
   "cell_type": "code",
   "execution_count": null,
   "metadata": {},
   "outputs": [],
   "source": [
    "import sys\n",
    "import os\n",
    "import pandas as pd\n",
    "import numpy as np\n",
    "\n",
    "from github import Github, Repository\n",
    "from GithubCredentials import my_credentials\n",
    "from enum import Enum\n",
    "\n",
    "sys.path.append(os.path.join(os.path.dirname(sys.path[0]),'harpcrawler'))\n",
    "from harprepo.device import DeviceRepo, TemplateDeviceRepo\n",
    "from harprepo.peripheral import PeripheralRepo, TemplatePeripheralRepo\n",
    "\n",
    "import fileparser\n"
   ]
  },
  {
   "cell_type": "code",
   "execution_count": null,
   "metadata": {},
   "outputs": [],
   "source": [
    "## Setup\n",
    "gh = Github(login_or_token=my_credentials())\n"
   ]
  },
  {
   "cell_type": "code",
   "execution_count": null,
   "metadata": {},
   "outputs": [],
   "source": [
    "## Grab the template repositories\n",
    "device_template = TemplateDeviceRepo(gh.get_repo(\"bruno-f-cruz/device.template\"))\n",
    "peripheral_template = TemplatePeripheralRepo(gh.get_repo(\"bruno-f-cruz/peripheral.template\"))"
   ]
  },
  {
   "cell_type": "code",
   "execution_count": null,
   "metadata": {},
   "outputs": [],
   "source": [
    "harp_organization = gh.get_organization(\"harp-tech\")\n",
    "\n",
    "## Get all \"Device.*\" repositories\n",
    "device_repos = [DeviceRepo(repo, device_template)\\\n",
    "    for repo in harp_organization.get_repos()\\\n",
    "        if ((\"device.\" in repo.full_name) and not(\"template\" in repo.full_name))]\n",
    "\n",
    "device_template.run_diagnosis(repos_to_validate=device_repos)\n",
    "device_diagnosis = device_template.print_diagnosis()\n",
    "print(device_diagnosis)\n",
    "\n",
    "\n",
    "\n",
    "\n",
    "\n",
    "if False:\n",
    "    ## Write to google sheets:\n",
    "    import gspread\n",
    "    gc = gspread.service_account()\n",
    "    sh = gc.open(\"GitHarpCrawler\")\n",
    "    try:\n",
    "        worksheet = sh.add_worksheet(title=\"devices\", rows = 100, cols= 100)\n",
    "    except:\n",
    "        sh.del_worksheet(sh.worksheet(title=\"devices\"))\n",
    "        worksheet = sh.add_worksheet(title=\"devices\", rows = 100, cols= 100)\n",
    "    worksheet.update([device_diagnosis.columns.values.tolist()] + device_diagnosis.values.tolist())\n",
    "\n"
   ]
  },
  {
   "cell_type": "code",
   "execution_count": null,
   "metadata": {},
   "outputs": [],
   "source": [
    "harp_organization = gh.get_organization(\"harp-tech\")\n",
    "\n",
    "## Get all \"Peripherals.*\" repositories\n",
    "\n",
    "peripheral_repos = [PeripheralRepo(repo, peripheral_template)\\\n",
    "    for repo in harp_organization.get_repos()\\\n",
    "        if ((\"peripheral.\" in repo.full_name) and not(\"template\" in repo.full_name))]\n",
    "\n",
    "peripheral_template.run_diagnosis(repos_to_validate=peripheral_repos)\n",
    "peripherals_diagnosis = peripheral_template.print_diagnosis()\n",
    "print(peripherals_diagnosis)\n",
    "\n",
    "\n",
    "if False:\n",
    "    ## Write to google sheets:\n",
    "    import gspread\n",
    "    gc = gspread.service_account()\n",
    "    sh = gc.open(\"GitHarpCrawler\")\n",
    "    try:\n",
    "        worksheet = sh.add_worksheet(title=\"peripherals\", rows = 100, cols= 100)\n",
    "    except:\n",
    "        sh.del_worksheet(sh.worksheet(title=\"peripherals\"))\n",
    "        worksheet = sh.add_worksheet(title=\"peripherals\", rows = 100, cols= 100)\n",
    "    worksheet.update([peripherals_diagnosis.columns.values.tolist()] + peripherals_diagnosis.values.tolist())"
   ]
  },
  {
   "cell_type": "code",
   "execution_count": null,
   "metadata": {},
   "outputs": [],
   "source": [
    "for repo in device_repos:\n",
    "    warnings = fileparser.validate_content(\n",
    "        repository=repo,\n",
    "        template_repository=device_template,\n",
    "        template_files=[\"README.md\"])\n",
    "    print(f\"Repo {repo.repository.name} with {warnings}\")"
   ]
  }
 ],
 "metadata": {
  "kernelspec": {
   "display_name": "GitHarpCrawler",
   "language": "python",
   "name": "python3"
  },
  "language_info": {
   "codemirror_mode": {
    "name": "ipython",
    "version": 3
   },
   "file_extension": ".py",
   "mimetype": "text/x-python",
   "name": "python",
   "nbconvert_exporter": "python",
   "pygments_lexer": "ipython3",
   "version": "3.10.8"
  },
  "orig_nbformat": 4,
  "vscode": {
   "interpreter": {
    "hash": "31e18dbbdcef53cd4cf51b478349e0fef84e585d00f71ad27545982ad4e2cea2"
   }
  }
 },
 "nbformat": 4,
 "nbformat_minor": 2
}
