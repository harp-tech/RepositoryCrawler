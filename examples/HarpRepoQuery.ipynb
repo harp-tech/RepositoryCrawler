{
 "cells": [
  {
   "cell_type": "code",
   "execution_count": 1,
   "metadata": {},
   "outputs": [],
   "source": [
    "import sys\n",
    "import os\n",
    "import pandas as pd\n",
    "import numpy as np\n",
    "\n",
    "from github import Github, Repository\n",
    "from GithubCredentials import my_credentials\n",
    "from enum import Enum\n",
    "\n",
    "sys.path.append(os.path.join(os.path.dirname(sys.path[0]),'harpcrawler'))\n",
    "from harprepo.device import DeviceRepo, TemplateDeviceRepo\n",
    "from harprepo.peripheral import PeripheralRepo, TemplatePeripheralRepo\n"
   ]
  },
  {
   "cell_type": "code",
   "execution_count": 2,
   "metadata": {},
   "outputs": [],
   "source": [
    "## Setup\n",
    "gh = Github(login_or_token=my_credentials())\n"
   ]
  },
  {
   "cell_type": "code",
   "execution_count": 3,
   "metadata": {},
   "outputs": [],
   "source": [
    "## Grab the template repositories\n",
    "device_template = TemplateDeviceRepo(gh.get_repo(\"bruno-f-cruz/device.template\"))\n",
    "peripheral_template = TemplatePeripheralRepo(gh.get_repo(\"bruno-f-cruz/peripheral.template\"))"
   ]
  },
  {
   "cell_type": "code",
   "execution_count": 4,
   "metadata": {},
   "outputs": [
    {
     "name": "stdout",
     "output_type": "stream",
     "text": [
      "                                                  Device .gitignore LICENSE  \\\n",
      "device.rfidreader                      device.rfidreader          ❌       ❌   \n",
      "device.behavior-before            device.behavior-before          ✅       ❌   \n",
      "device.behavior                          device.behavior          ✅       ❌   \n",
      "device.audioswitch                    device.audioswitch          ✅       ❌   \n",
      "device.cameratriggercontrol  device.cameratriggercontrol          ❌       ❌   \n",
      "device.clocksync                        device.clocksync          ❌       ❌   \n",
      "device.loadcells                        device.loadcells          ✅       ❌   \n",
      "device.rgbarray                          device.rgbarray          ✅       ❌   \n",
      "device.multipwm                          device.multipwm          ❌       ❌   \n",
      "device.synchronizer                  device.synchronizer          ✅       ❌   \n",
      "device.ledarray                          device.ledarray          ✅       ❌   \n",
      "\n",
      "                            README.md Assets/pcb.png Firmware/.gitignore  \\\n",
      "device.rfidreader                   ✅              ❌                   ✅   \n",
      "device.behavior-before              ✅              ❌                   ❌   \n",
      "device.behavior                     ✅              ✅                   ✅   \n",
      "device.audioswitch                  ✅              ✅                   ❌   \n",
      "device.cameratriggercontrol         ✅              ✅                   ❌   \n",
      "device.clocksync                    ✅              ✅                   ❌   \n",
      "device.loadcells                    ✅              ✅                   ❌   \n",
      "device.rgbarray                     ✅              ✅                   ❌   \n",
      "device.multipwm                     ✅              ✅                   ❌   \n",
      "device.synchronizer                 ✅              ✅                   ❌   \n",
      "device.ledarray                     ✅              ✅                   ❌   \n",
      "\n",
      "                            Firmware/LICENSE Hardware/.gitignore  \\\n",
      "device.rfidreader                          ✅                   ✅   \n",
      "device.behavior-before                     ❌                   ❌   \n",
      "device.behavior                            ❌                   ✅   \n",
      "device.audioswitch                         ❌                   ❌   \n",
      "device.cameratriggercontrol                ❌                   ❌   \n",
      "device.clocksync                           ❌                   ❌   \n",
      "device.loadcells                           ❌                   ❌   \n",
      "device.rgbarray                            ❌                   ❌   \n",
      "device.multipwm                            ❌                   ❌   \n",
      "device.synchronizer                        ❌                   ❌   \n",
      "device.ledarray                            ❌                   ❌   \n",
      "\n",
      "                            Hardware/Mechanical/LICENSE Hardware/PCB/LICENSE  \n",
      "device.rfidreader                                     ❌                    ✅  \n",
      "device.behavior-before                                ❌                    ❌  \n",
      "device.behavior                                       ❌                    ❌  \n",
      "device.audioswitch                                    ❌                    ❌  \n",
      "device.cameratriggercontrol                           ❌                    ❌  \n",
      "device.clocksync                                      ❌                    ❌  \n",
      "device.loadcells                                      ❌                    ❌  \n",
      "device.rgbarray                                       ❌                    ❌  \n",
      "device.multipwm                                       ❌                    ❌  \n",
      "device.synchronizer                                   ❌                    ❌  \n",
      "device.ledarray                                       ❌                    ❌  \n"
     ]
    },
    {
     "data": {
      "text/plain": [
       "{'spreadsheetId': '1ZjgfpKjjQnCMx7Z6JxweBzrvd6ZNkaRnnd75J6-5pSM',\n",
       " 'updatedRange': 'devices!A1:J12',\n",
       " 'updatedRows': 12,\n",
       " 'updatedColumns': 10,\n",
       " 'updatedCells': 120}"
      ]
     },
     "execution_count": 4,
     "metadata": {},
     "output_type": "execute_result"
    }
   ],
   "source": [
    "harp_organization = gh.get_organization(\"harp-tech\")\n",
    "\n",
    "## Get all \"Device.*\" repositories\n",
    "device_diagnosis = pd.DataFrame(columns=device_template.filetree)\n",
    "device_diagnosis = device_diagnosis.astype('bool')\n",
    "\n",
    "device_repos = [DeviceRepo(repo, device_template)\\\n",
    "    for repo in harp_organization.get_repos()\\\n",
    "        if ((\"device.\" in repo.full_name) and not(\"template\" in repo.full_name))]\n",
    "\n",
    "for device_repo in device_repos:\n",
    "    device_diagnosis = pd.concat([device_diagnosis,\\\n",
    "        pd.DataFrame(device_repo.exist_harpfiles(), index = [device_repo.repository.full_name.split(\"/\")[-1]])\\\n",
    "            ], axis=0, ignore_index=False)\n",
    "\n",
    "\n",
    "## Write to google sheets:\n",
    "import gspread\n",
    "gc = gspread.service_account()\n",
    "sh = gc.open(\"GitHarpCrawler\")\n",
    "\n",
    "cols = device_diagnosis.columns.to_list()\n",
    "cols.insert(0,'Device')\n",
    "device_diagnosis['Device'] = device_diagnosis.index\n",
    "device_diagnosis = device_diagnosis[cols]\n",
    "device_diagnosis = device_diagnosis.replace({True: '\\u2705', False: '\\u274C'})\n",
    "print(device_diagnosis)\n",
    "\n",
    "try:\n",
    "    worksheet = sh.add_worksheet(title=\"devices\", rows = 100, cols= 100)\n",
    "except:\n",
    "    sh.del_worksheet(sh.worksheet(title=\"devices\"))\n",
    "    worksheet = sh.add_worksheet(title=\"devices\", rows = 100, cols= 100)\n",
    "worksheet.update([device_diagnosis.columns.values.tolist()] + device_diagnosis.values.tolist())\n",
    "\n"
   ]
  },
  {
   "cell_type": "code",
   "execution_count": 5,
   "metadata": {},
   "outputs": [],
   "source": [
    "harp_organization = gh.get_organization(\"harp-tech\")\n",
    "\n",
    "## Get all \"Peripherals.*\" repositories\n",
    "peripherals_diagnosis = pd.DataFrame(columns=peripheral_template.filetree)\n",
    "peripherals_diagnosis = peripherals_diagnosis.astype('bool')\n",
    "\n",
    "peripheral_repos = [PeripheralRepo(repo, peripheral_template)\\\n",
    "    for repo in harp_organization.get_repos()\\\n",
    "        if ((\"peripheral.\" in repo.full_name) and not(\"template\" in repo.full_name))]\n",
    "\n",
    "for peripheral_repo in peripheral_repos:\n",
    "    peripherals_diagnosis = pd.concat([peripherals_diagnosis,\\\n",
    "        pd.DataFrame(peripheral_repo.exist_harpfiles(), index = [peripheral_repo.repository.full_name.split(\"/\")[-1]])\\\n",
    "            ], axis=0, ignore_index=False)\n",
    "\n",
    "\n",
    "## Write to google sheets:\n",
    "import gspread\n",
    "gc = gspread.service_account()\n",
    "sh = gc.open(\"GitHarpCrawler\")\n",
    "\n",
    "cols = peripherals_diagnosis.columns.to_list()\n",
    "cols.insert(0,'Peripheral')\n",
    "peripherals_diagnosis['Peripheral'] = peripherals_diagnosis.index\n",
    "peripherals_diagnosis = peripherals_diagnosis[cols]\n",
    "peripherals_diagnosis = peripherals_diagnosis.replace({True: '\\u2705', False: '\\u274C'})\n",
    "\n",
    "try:\n",
    "    worksheet = sh.add_worksheet(title=\"peripherals\", rows = 100, cols= 100)\n",
    "except:\n",
    "    sh.del_worksheet(sh.worksheet(title=\"peripherals\"))\n",
    "    worksheet = sh.add_worksheet(title=\"peripherals\", rows = 100, cols= 100)\n",
    "worksheet.update([peripherals_diagnosis.columns.values.tolist()] + peripherals_diagnosis.values.tolist())"
   ]
  },
  {
   "cell_type": "code",
   "execution_count": 6,
   "metadata": {},
   "outputs": [
    {
     "data": {
      "text/plain": [
       "{'spreadsheetId': '1ZjgfpKjjQnCMx7Z6JxweBzrvd6ZNkaRnnd75J6-5pSM',\n",
       " 'updatedRange': 'peripherals!A1:G8',\n",
       " 'updatedRows': 8,\n",
       " 'updatedColumns': 7,\n",
       " 'updatedCells': 56}"
      ]
     },
     "execution_count": 6,
     "metadata": {},
     "output_type": "execute_result"
    }
   ],
   "source": [
    "worksheet.update([peripherals_diagnosis.columns.values.tolist()] + peripherals_diagnosis.values.tolist())"
   ]
  }
 ],
 "metadata": {
  "kernelspec": {
   "display_name": "GitHarpCrawler",
   "language": "python",
   "name": "python3"
  },
  "language_info": {
   "codemirror_mode": {
    "name": "ipython",
    "version": 3
   },
   "file_extension": ".py",
   "mimetype": "text/x-python",
   "name": "python",
   "nbconvert_exporter": "python",
   "pygments_lexer": "ipython3",
   "version": "3.10.8"
  },
  "orig_nbformat": 4,
  "vscode": {
   "interpreter": {
    "hash": "31e18dbbdcef53cd4cf51b478349e0fef84e585d00f71ad27545982ad4e2cea2"
   }
  }
 },
 "nbformat": 4,
 "nbformat_minor": 2
}
