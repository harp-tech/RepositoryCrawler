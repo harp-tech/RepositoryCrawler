{
 "cells": [
  {
   "cell_type": "code",
   "execution_count": 2,
   "metadata": {},
   "outputs": [],
   "source": [
    "import sys\n",
    "import os\n",
    "\n",
    "from github import Github, Repository\n",
    "from GithubCredentials import my_credentials\n",
    "from enum import Enum\n",
    "\n",
    "sys.path.append(os.path.join(os.path.dirname(sys.path[0]),'harpcrawler'))\n",
    "from harprepo import HarpRepo, DeviceRepo, PeripheralRepo\n"
   ]
  },
  {
   "cell_type": "code",
   "execution_count": 8,
   "metadata": {},
   "outputs": [
    {
     "name": "stdout",
     "output_type": "stream",
     "text": [
      "{<DeviceFiles.README: 'README.md'>: True, <DeviceFiles.GITIGNORE: '.gitignore'>: False, <DeviceFiles.FIRMWARE_GITIGNORE: 'Firmware/.gitignore'>: True, <DeviceFiles.HARDWARE_GITIGNORE: 'Hardware/.gitignore'>: True, <DeviceFiles.INTERFACES_GITIGNORE: 'Interfaces/.gitignore'>: False}\n"
     ]
    },
    {
     "ename": "TypeError",
     "evalue": "descriptor 'join' for 'str' objects doesn't apply to a 'list' object",
     "output_type": "error",
     "traceback": [
      "\u001b[1;31m---------------------------------------------------------------------------\u001b[0m",
      "\u001b[1;31mTypeError\u001b[0m                                 Traceback (most recent call last)",
      "Cell \u001b[1;32mIn[8], line 9\u001b[0m\n\u001b[0;32m      7\u001b[0m     is_file_present \u001b[39m=\u001b[39m repo\u001b[39m.\u001b[39mexist_harpfiles()\n\u001b[0;32m      8\u001b[0m     \u001b[39mprint\u001b[39m(is_file_present)\n\u001b[1;32m----> 9\u001b[0m \u001b[39mstr\u001b[39;49m\u001b[39m.\u001b[39;49mjoin(repo\u001b[39m.\u001b[39;49mrepository\u001b[39m.\u001b[39;49mfull_name\u001b[39m.\u001b[39;49msplit(\u001b[39m\"\u001b[39;49m\u001b[39m/\u001b[39;49m\u001b[39m\"\u001b[39;49m)[\u001b[39m1\u001b[39;49m:])\n",
      "\u001b[1;31mTypeError\u001b[0m: descriptor 'join' for 'str' objects doesn't apply to a 'list' object"
     ]
    }
   ],
   "source": [
    "gh_context = Github(login_or_token=my_credentials())\n",
    "harp_organization = gh_context.get_organization(\"harp-tech\")\n",
    "device_repos = [DeviceRepo(repo) for repo in harp_organization.get_repos() if \"device.\" in repo.full_name]\n",
    "\n",
    "for repo in device_repos:\n",
    "    r = repo.populate_repo()\n",
    "    is_file_present = repo.exist_harpfiles()\n",
    "    print(is_file_present)\n",
    "\n"
   ]
  },
  {
   "cell_type": "code",
   "execution_count": 12,
   "metadata": {},
   "outputs": [
    {
     "data": {
      "text/plain": [
       "'device.rfidreader'"
      ]
     },
     "execution_count": 12,
     "metadata": {},
     "output_type": "execute_result"
    }
   ],
   "source": []
  },
  {
   "cell_type": "code",
   "execution_count": 14,
   "metadata": {},
   "outputs": [
    {
     "name": "stdout",
     "output_type": "stream",
     "text": [
      "DeviceFiles.README True\n",
      "DeviceFiles.GITIGNORE False\n",
      "DeviceFiles.FIRMWARE_GITIGNORE True\n",
      "DeviceFiles.HARDWARE_GITIGNORE True\n",
      "DeviceFiles.INTERFACES_GITIGNORE False\n"
     ]
    },
    {
     "data": {
      "text/plain": [
       "5"
      ]
     },
     "execution_count": 14,
     "metadata": {},
     "output_type": "execute_result"
    }
   ],
   "source": [
    "_ = [print(file, is_file_present[file] ) for file in is_file_present]\n"
   ]
  },
  {
   "cell_type": "code",
   "execution_count": 21,
   "metadata": {},
   "outputs": [
    {
     "name": "stdout",
     "output_type": "stream",
     "text": [
      "Worksheet already exists...\n"
     ]
    }
   ],
   "source": [
    "import gspread\n",
    "\n",
    "gc = gspread.service_account()\n",
    "\n",
    "sh = gc.open(\"GitHarpCrawler\")\n",
    "\n",
    "for repo in device_repos:\n",
    "    r = repo.populate_repo()\n",
    "    is_file_present = repo.exist_harpfiles()\n",
    "    try:\n",
    "        worksheet = sh.add_worksheet(title=''.join(repo.repository.full_name.split(\"/\")[1:]), rows=2, cols=len(is_file_present))\n",
    "    except:\n",
    "        print(\"Worksheet already exists...\")\n",
    "    for i, file in enumerate(is_file_present):\n",
    "        worksheet.update_cell(1, i+1, str(file))\n",
    "        worksheet.update_cell(2, i+1, str(is_file_present[file]))\n"
   ]
  },
  {
   "cell_type": "code",
   "execution_count": 18,
   "metadata": {},
   "outputs": [
    {
     "data": {
      "text/plain": [
       "0"
      ]
     },
     "execution_count": 18,
     "metadata": {},
     "output_type": "execute_result"
    }
   ],
   "source": []
  },
  {
   "cell_type": "code",
   "execution_count": null,
   "metadata": {},
   "outputs": [],
   "source": []
  }
 ],
 "metadata": {
  "kernelspec": {
   "display_name": "GitHarpCrawler",
   "language": "python",
   "name": "python3"
  },
  "language_info": {
   "codemirror_mode": {
    "name": "ipython",
    "version": 3
   },
   "file_extension": ".py",
   "mimetype": "text/x-python",
   "name": "python",
   "nbconvert_exporter": "python",
   "pygments_lexer": "ipython3",
   "version": "3.10.8"
  },
  "orig_nbformat": 4,
  "vscode": {
   "interpreter": {
    "hash": "31e18dbbdcef53cd4cf51b478349e0fef84e585d00f71ad27545982ad4e2cea2"
   }
  }
 },
 "nbformat": 4,
 "nbformat_minor": 2
}
